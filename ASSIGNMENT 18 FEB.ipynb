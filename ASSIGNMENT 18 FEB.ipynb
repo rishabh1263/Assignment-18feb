{
 "cells": [
  {
   "cell_type": "markdown",
   "id": "990c5e9d",
   "metadata": {},
   "source": [
    "APIs are used by web applications to link functionality and data on the back end with the user-facing front end. APIs are used to deliver content by streaming services like Spotify and Netflix. APIs are used to provide software updates by automakers like Tesla.\n"
   ]
  },
  {
   "cell_type": "markdown",
   "id": "1d5c327c",
   "metadata": {},
   "source": [
    "Q2:Give advantages and disadvantages of using API.\n",
    "\n",
    "Pro: No More Drowning in Details.\n",
    "Pro: Simplifying Unnecessary Complexities for Speed.\n",
    "Con: More Generation = Loss of Control.\n",
    "Pro: Lighter Load for DevOps.\n",
    "Pro: Greater Alignment.\n",
    "Con: Yet Another Change.\n"
   ]
  },
  {
   "cell_type": "markdown",
   "id": "a601fd8b",
   "metadata": {},
   "source": [
    "##Q3:\n",
    "Web service is used for REST, SOAP, and XML-RPC for communication, while API is used for any style of communication. Web service supports only HTTP protocol, whereas API supports HTTP/HTTPS protocol. Web service supports XML, while API supports XML and JSON. All Web services are APIs, but all APIs are not web services.\n",
    "\n",
    "What is the difference between API and Web API?\n",
    "Image result for What is a Web API? Difference between API and Web API.\n",
    "API is an interface that exposes an application's data to outside software, whereas web applications are one type of API with stricter requirements. These requirements include network communication, SOAP as the primary protocol, and less accessibility for the public."
   ]
  },
  {
   "cell_type": "markdown",
   "id": "627d76de",
   "metadata": {},
   "source": [
    "##Q4:\n",
    "SOAP API\n",
    "\n",
    "REST API\n",
    "\n",
    "Relies on SOAP (Simple Object Access Protocol)\tRelies on REST (Representational State Transfer) architecture using HTTP.\n",
    "Transports data in standard XML format.\tGenerally transports data in JSON. It is based on URI. Because REST follows stateless model, REST does not enforces message format as XML or JSON etc.\n",
    "Because it is XML based and relies on SOAP, it works with WSDL\tIt works with GET, POST, PUT, DELETE\n",
    "Works over HTTP, HTTPS, SMTP, XMPP\tWorks over HTTP and HTTPS\n",
    "Highly structured/typed\tLess structured -> less bulky data\n",
    "Designed with large enterprise applications in mind\tDesigned with mobile devices in mind"
   ]
  },
  {
   "cell_type": "markdown",
   "id": "1fe01fbc",
   "metadata": {},
   "source": [
    "##Q5:\n",
    "Key Difference Between SOAP and REST API\n",
    "SOAP stands for Simple Object Access Protocol whereas REST stands for Representational State Transfer.\n",
    "SOAP is a protocol whereas REST is an architectural pattern.\n",
    "SOAP uses service interfaces to expose its functionality to client applications while REST uses Uniform Service locators to access to the components on the hardware device.\n",
    "SOAP needs more bandwidth for its usage whereas REST doesn’t need much bandwidth.\n",
    "Comparing SOAP vs REST API, SOAP only works with XML formats whereas REST work with plain text, XML, HTML and JSON.\n",
    "SOAP cannot make use of REST whereas REST can make use of SOAP.\n"
   ]
  },
  {
   "cell_type": "code",
   "execution_count": null,
   "id": "5dff5ef2",
   "metadata": {},
   "outputs": [],
   "source": []
  }
 ],
 "metadata": {
  "kernelspec": {
   "display_name": "Python 3 (ipykernel)",
   "language": "python",
   "name": "python3"
  },
  "language_info": {
   "codemirror_mode": {
    "name": "ipython",
    "version": 3
   },
   "file_extension": ".py",
   "mimetype": "text/x-python",
   "name": "python",
   "nbconvert_exporter": "python",
   "pygments_lexer": "ipython3",
   "version": "3.9.13"
  }
 },
 "nbformat": 4,
 "nbformat_minor": 5
}
